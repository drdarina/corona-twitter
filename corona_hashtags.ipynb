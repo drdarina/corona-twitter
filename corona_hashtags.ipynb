{
 "cells": [
  {
   "cell_type": "markdown",
   "metadata": {},
   "source": [
    "## Organise all hashtags in a co-ocurrence graph"
   ]
  },
  {
   "cell_type": "code",
   "execution_count": 2,
   "metadata": {},
   "outputs": [],
   "source": [
    "import pandas as pd\n",
    "import networkx as nx\n",
    "from collections import defaultdict\n",
    "%matplotlib inline\n",
    "import matplotlib.pyplot as plt\n",
    "import numpy as np"
   ]
  },
  {
   "cell_type": "code",
   "execution_count": 3,
   "metadata": {},
   "outputs": [
    {
     "name": "stdout",
     "output_type": "stream",
     "text": [
      "There are 20,961,053 hashtags from 7,016,316 tweets\n"
     ]
    },
    {
     "data": {
      "text/html": [
       "<div>\n",
       "<style scoped>\n",
       "    .dataframe tbody tr th:only-of-type {\n",
       "        vertical-align: middle;\n",
       "    }\n",
       "\n",
       "    .dataframe tbody tr th {\n",
       "        vertical-align: top;\n",
       "    }\n",
       "\n",
       "    .dataframe thead th {\n",
       "        text-align: right;\n",
       "    }\n",
       "</style>\n",
       "<table border=\"1\" class=\"dataframe\">\n",
       "  <thead>\n",
       "    <tr style=\"text-align: right;\">\n",
       "      <th></th>\n",
       "      <th>status_id</th>\n",
       "      <th>hashtag</th>\n",
       "    </tr>\n",
       "  </thead>\n",
       "  <tbody>\n",
       "    <tr>\n",
       "      <th>5621195</th>\n",
       "      <td>1241038791621644289</td>\n",
       "      <td>wakeupclt</td>\n",
       "    </tr>\n",
       "    <tr>\n",
       "      <th>17641391</th>\n",
       "      <td>1240089552649441280</td>\n",
       "      <td>democraticcoronavirush</td>\n",
       "    </tr>\n",
       "    <tr>\n",
       "      <th>7587853</th>\n",
       "      <td>1241421720671719426</td>\n",
       "      <td>coronavirus</td>\n",
       "    </tr>\n",
       "    <tr>\n",
       "      <th>26526572</th>\n",
       "      <td>1238501739084603392</td>\n",
       "      <td>25thamendmentnow</td>\n",
       "    </tr>\n",
       "    <tr>\n",
       "      <th>14203996</th>\n",
       "      <td>1240635563230846978</td>\n",
       "      <td>peoplevsschumer</td>\n",
       "    </tr>\n",
       "  </tbody>\n",
       "</table>\n",
       "</div>"
      ],
      "text/plain": [
       "                    status_id                 hashtag\n",
       "5621195   1241038791621644289               wakeupclt\n",
       "17641391  1240089552649441280  democraticcoronavirush\n",
       "7587853   1241421720671719426             coronavirus\n",
       "26526572  1238501739084603392        25thamendmentnow\n",
       "14203996  1240635563230846978         peoplevsschumer"
      ]
     },
     "execution_count": 3,
     "metadata": {},
     "output_type": "execute_result"
    }
   ],
   "source": [
    "ht = pd.read_csv('data/raw/Hashtags.CSV').dropna()\n",
    "ht.hashtag = ht.hashtag.apply(lambda x: x.lower())\n",
    "ht.drop_duplicates(inplace=True)\n",
    "hashtags = ht.hashtag.unique()\n",
    "print('There are {:,} hashtags from {:,} tweets'.format(len(ht), ht.status_id.nunique()))\n",
    "ht.sample(5)"
   ]
  },
  {
   "cell_type": "code",
   "execution_count": 4,
   "metadata": {},
   "outputs": [
    {
     "name": "stdout",
     "output_type": "stream",
     "text": [
      "There are 1011257 different hasahtags\n"
     ]
    },
    {
     "data": {
      "text/plain": [
       "Text(0.5, 1.0, 'Value counts of first 200 most common hashtags')"
      ]
     },
     "execution_count": 4,
     "metadata": {},
     "output_type": "execute_result"
    },
    {
     "data": {
      "image/png": "[encoded data removed]",
      "text/plain": [
       "<Figure size 432x288 with 1 Axes>"
      ]
     },
     "metadata": {
      "needs_background": "light"
     },
     "output_type": "display_data"
    }
   ],
   "source": [
    "nodes = ht.hashtag.value_counts()\n",
    "print('There are {:,} different hasahtags'.format(len(nodes)))\n",
    "first_x = 200\n",
    "plt.plot(range(first_x), nodes.head(first_x))\n",
    "plt.title('Value counts of first {} most common hashtags'.format(first_x))"
   ]
  },
  {
   "cell_type": "markdown",
   "metadata": {},
   "source": [
    "As expected there are some few very common hashtags and a looooong tail. We will never be able to visualise the tail so let's drop all nodes that have less than 5 mentions."
   ]
  },
  {
   "cell_type": "code",
   "execution_count": 11,
   "metadata": {},
   "outputs": [
    {
     "name": "stdout",
     "output_type": "stream",
     "text": [
      "1,392 hashtags were used at least 1000 times\n"
     ]
    }
   ],
   "source": [
    "min_size = 1000\n",
    "nodes = nodes[nodes > min_size]\n",
    "print('{:,} hashtags were used at least {} times'.format(len(nodes), min_size))"
   ]
  },
  {
   "cell_type": "markdown",
   "metadata": {},
   "source": [
    "This is still a huge amount but more manageable."
   ]
  },
  {
   "cell_type": "code",
   "execution_count": 12,
   "metadata": {},
   "outputs": [
    {
     "name": "stdout",
     "output_type": "stream",
     "text": [
      "14,879,705 rows need to be collected for edges\n"
     ]
    }
   ],
   "source": [
    "# remove all rare hashtags from the data\n",
    "# we could also remove all tweets with one node here but I prefer to do it in the next step so as not to wrangle the data twice\n",
    "ht = ht[ht.hashtag.isin(nodes.index)]\n",
    "print('{:,} rows need to be collected for edges'.format(len(ht)))"
   ]
  },
  {
   "cell_type": "code",
   "execution_count": 15,
   "metadata": {},
   "outputs": [],
   "source": [
    "# generate edges\n",
    "\n",
    "grouped = ht.groupby('status_id')\n",
    "edges = defaultdict(int)\n",
    "\n",
    "for n, g in grouped:\n",
    "    h = g.hashtag.values\n",
    "    if len(h) > 1:\n",
    "        for h1 in h:\n",
    "            for h2 in h:\n",
    "                edges[(h1, h2)] += 1"
   ]
  },
  {
   "cell_type": "code",
   "execution_count": 16,
   "metadata": {},
   "outputs": [
    {
     "name": "stdout",
     "output_type": "stream",
     "text": [
      "There are 618,276 edges\n"
     ]
    }
   ],
   "source": [
    "print('There are {:,} edges'.format(len(edges)))"
   ]
  },
  {
   "cell_type": "code",
   "execution_count": 17,
   "metadata": {},
   "outputs": [
    {
     "data": {
      "text/plain": [
       "Text(0.5, 1.0, 'Degree distribution of the first 200 edges')"
      ]
     },
     "execution_count": 17,
     "metadata": {},
     "output_type": "execute_result"
    },
    {
     "data": {
      "image/png": "[encoded data removed]",
      "text/plain": [
       "<Figure size 432x288 with 1 Axes>"
      ]
     },
     "metadata": {
      "needs_background": "light"
     },
     "output_type": "display_data"
    }
   ],
   "source": [
    "edge_degrees = sorted(edges.values(), reverse=True)\n",
    "first_x = 200\n",
    "plt.plot(range(first_x), edge_degrees[:first_x])\n",
    "plt.title('Degree distribution of the first {} edges'.format(first_x))"
   ]
  },
  {
   "cell_type": "code",
   "execution_count": 23,
   "metadata": {},
   "outputs": [
    {
     "name": "stdout",
     "output_type": "stream",
     "text": [
      "6,492 edges have weight at least 1000\n"
     ]
    }
   ],
   "source": [
    "# remove all edges that are too weak\n",
    "min_weight = 1000\n",
    "edges = {k: v for k, v in edges.items() if v > min_weight}\n",
    "print('{:,} edges have weight at least {}'.format(len(edges), min_weight))"
   ]
  },
  {
   "cell_type": "code",
   "execution_count": 24,
   "metadata": {},
   "outputs": [],
   "source": [
    "# create the graph\n",
    "\n",
    "G = nx.Graph()\n",
    "for n, size in zip(nodes.index, nodes.values):\n",
    "    G.add_node(n, size=size)\n",
    "\n",
    "# add all edges\n",
    "for k, v in edges.items():\n",
    "    G.add_edge(*k, weight=v)"
   ]
  },
  {
   "cell_type": "code",
   "execution_count": 25,
   "metadata": {},
   "outputs": [],
   "source": [
    "# remove isolated\n",
    "G.remove_nodes_from(list(nx.isolates(G)))"
   ]
  },
  {
   "cell_type": "code",
   "execution_count": 26,
   "metadata": {},
   "outputs": [],
   "source": [
    "data = nx.readwrite.json_graph.node_link_data(G)"
   ]
  },
  {
   "cell_type": "code",
   "execution_count": 67,
   "metadata": {},
   "outputs": [],
   "source": [
    "# the json dumps method does not work with this object\n",
    "with open('networkx_graph_data.json', 'w') as f:\n",
    "    f.write(str(data).replace('\\'', '\\\"'))"
   ]
  },
  {
   "cell_type": "code",
   "execution_count": 66,
   "metadata": {},
   "outputs": [],
   "source": [
    "# Create a smaller graph\n",
    "\n",
    "top_nodes = [x for x,y in G.nodes(data=True) if y['size']> 50000]\n",
    "small_G = G.subgraph(top_nodes)\n",
    "data = nx.readwrite.json_graph.node_link_data(small_G)\n",
    "as_string = str(data).replace('\\'', '\\\"')\n",
    "with open('networkx_small_graph_data.json', 'w') as f:\n",
    "    f.write(str(data))"
   ]
  }
 ],
 "metadata": {
  "kernelspec": {
   "display_name": "Python 3",
   "language": "python",
   "name": "python3"
  },
  "language_info": {
   "codemirror_mode": {
    "name": "ipython",
    "version": 3
   },
   "file_extension": ".py",
   "mimetype": "text/x-python",
   "name": "python",
   "nbconvert_exporter": "python",
   "pygments_lexer": "ipython3",
   "version": "3.5.2"
  }
 },
 "nbformat": 4,
 "nbformat_minor": 2
}
