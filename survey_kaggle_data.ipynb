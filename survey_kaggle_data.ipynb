{
 "cells": [
  {
   "cell_type": "code",
   "execution_count": 1,
   "metadata": {},
   "outputs": [],
   "source": [
    "%matplotlib inline\n",
    "import pandas as pd\n",
    "import numpy as np\n",
    "import matplotlib.pyplot as plt"
   ]
  },
  {
   "cell_type": "code",
   "execution_count": 2,
   "metadata": {},
   "outputs": [
    {
     "data": {
      "text/plain": [
       "['2020-03-14.csv',\n",
       " '2020-03-28.csv',\n",
       " '2020-03-25.csv',\n",
       " '2020-03-18.csv',\n",
       " '2020-03-17.csv',\n",
       " '2020-03-30.csv',\n",
       " '2020-03-20.csv',\n",
       " '2020-03-23.csv',\n",
       " '2020-03-15.csv',\n",
       " '2020-03-24.csv',\n",
       " '2020-03-16.csv',\n",
       " '2020-03-26.csv',\n",
       " '2020-03-22.csv',\n",
       " '2020-03-13.csv',\n",
       " '2020-03-27.csv',\n",
       " '.ipynb_checkpoints',\n",
       " '2020-03-19.csv',\n",
       " '2020-03-21.csv',\n",
       " '2020-03-00.csv',\n",
       " '2020-03-29.csv',\n",
       " '2020-03-12.csv']"
      ]
     },
     "execution_count": 2,
     "metadata": {},
     "output_type": "execute_result"
    }
   ],
   "source": [
    "import os\n",
    "path = 'data/preprocessed'\n",
    "os.listdir(path)"
   ]
  },
  {
   "cell_type": "code",
   "execution_count": 3,
   "metadata": {},
   "outputs": [
    {
     "data": {
      "text/html": [
       "<div>\n",
       "<style scoped>\n",
       "    .dataframe tbody tr th:only-of-type {\n",
       "        vertical-align: middle;\n",
       "    }\n",
       "\n",
       "    .dataframe tbody tr th {\n",
       "        vertical-align: top;\n",
       "    }\n",
       "\n",
       "    .dataframe thead th {\n",
       "        text-align: right;\n",
       "    }\n",
       "</style>\n",
       "<table border=\"1\" class=\"dataframe\">\n",
       "  <thead>\n",
       "    <tr style=\"text-align: right;\">\n",
       "      <th></th>\n",
       "      <th>status_id</th>\n",
       "      <th>hashtag</th>\n",
       "    </tr>\n",
       "  </thead>\n",
       "  <tbody>\n",
       "    <tr>\n",
       "      <th>25536712</th>\n",
       "      <td>1238602986030497803</td>\n",
       "      <td>CoronaOutbreak</td>\n",
       "    </tr>\n",
       "    <tr>\n",
       "      <th>3060880</th>\n",
       "      <td>1241438394770690049</td>\n",
       "      <td>coronavirus</td>\n",
       "    </tr>\n",
       "    <tr>\n",
       "      <th>15211543</th>\n",
       "      <td>1240589074760531968</td>\n",
       "      <td>COVID19</td>\n",
       "    </tr>\n",
       "    <tr>\n",
       "      <th>12997534</th>\n",
       "      <td>1240570466537852928</td>\n",
       "      <td>properleadership</td>\n",
       "    </tr>\n",
       "    <tr>\n",
       "      <th>395214</th>\n",
       "      <td>1241865699947171841</td>\n",
       "      <td>COVID19</td>\n",
       "    </tr>\n",
       "  </tbody>\n",
       "</table>\n",
       "</div>"
      ],
      "text/plain": [
       "                    status_id           hashtag\n",
       "25536712  1238602986030497803    CoronaOutbreak\n",
       "3060880   1241438394770690049       coronavirus\n",
       "15211543  1240589074760531968           COVID19\n",
       "12997534  1240570466537852928  properleadership\n",
       "395214    1241865699947171841           COVID19"
      ]
     },
     "execution_count": 3,
     "metadata": {},
     "output_type": "execute_result"
    }
   ],
   "source": [
    "ht = pd.read_csv('data/raw/Hashtags.CSV')\n",
    "ht.sample(5)"
   ]
  },
  {
   "cell_type": "code",
   "execution_count": 4,
   "metadata": {},
   "outputs": [
    {
     "name": "stdout",
     "output_type": "stream",
     "text": [
      "Most common hastags\n"
     ]
    },
    {
     "data": {
      "text/plain": [
       "𝙲𝚘𝚟𝚒𝚍𝟷𝟿         4\n",
       "𝙲𝙾𝚅𝙸𝙳𝟷𝟿         1\n",
       "𝙘𝙤𝙫𝙞𝙙19         1\n",
       "𝙘𝙤𝙧𝙤𝙣𝙖𝙫𝙞𝙧𝙪𝙨     1\n",
       "𝘾𝙤𝙧𝙤𝙣𝙖𝙫𝙞𝙧𝙪𝙨    10\n",
       "Name: hashtag, dtype: int64"
      ]
     },
     "execution_count": 4,
     "metadata": {},
     "output_type": "execute_result"
    }
   ],
   "source": [
    "print('Most common hastags')\n",
    "ht.hashtag.value_counts().sort_index(ascending=False).head()"
   ]
  },
  {
   "cell_type": "code",
   "execution_count": 17,
   "metadata": {},
   "outputs": [
    {
     "data": {
      "text/plain": [
       "1227161"
      ]
     },
     "execution_count": 17,
     "metadata": {},
     "output_type": "execute_result"
    }
   ],
   "source": [
    "ht.hashtag.nunique()"
   ]
  },
  {
   "cell_type": "code",
   "execution_count": 5,
   "metadata": {},
   "outputs": [
    {
     "data": {
      "text/html": [
       "<div>\n",
       "<style scoped>\n",
       "    .dataframe tbody tr th:only-of-type {\n",
       "        vertical-align: middle;\n",
       "    }\n",
       "\n",
       "    .dataframe tbody tr th {\n",
       "        vertical-align: top;\n",
       "    }\n",
       "\n",
       "    .dataframe thead th {\n",
       "        text-align: right;\n",
       "    }\n",
       "</style>\n",
       "<table border=\"1\" class=\"dataframe\">\n",
       "  <thead>\n",
       "    <tr style=\"text-align: right;\">\n",
       "      <th></th>\n",
       "      <th>country</th>\n",
       "      <th>country_code</th>\n",
       "    </tr>\n",
       "  </thead>\n",
       "  <tbody>\n",
       "    <tr>\n",
       "      <th>167</th>\n",
       "      <td>Saint Barthélemy</td>\n",
       "      <td>BL</td>\n",
       "    </tr>\n",
       "    <tr>\n",
       "      <th>126</th>\n",
       "      <td>Martinique</td>\n",
       "      <td>MQ</td>\n",
       "    </tr>\n",
       "    <tr>\n",
       "      <th>110</th>\n",
       "      <td>Latvia</td>\n",
       "      <td>LV</td>\n",
       "    </tr>\n",
       "    <tr>\n",
       "      <th>60</th>\n",
       "      <td>Ethiopia</td>\n",
       "      <td>ET</td>\n",
       "    </tr>\n",
       "    <tr>\n",
       "      <th>0</th>\n",
       "      <td>NaN</td>\n",
       "      <td>NaN</td>\n",
       "    </tr>\n",
       "  </tbody>\n",
       "</table>\n",
       "</div>"
      ],
      "text/plain": [
       "              country country_code\n",
       "167  Saint Barthélemy           BL\n",
       "126        Martinique           MQ\n",
       "110            Latvia           LV\n",
       "60           Ethiopia           ET\n",
       "0                 NaN          NaN"
      ]
     },
     "execution_count": 5,
     "metadata": {},
     "output_type": "execute_result"
    }
   ],
   "source": [
    "countries = pd.read_csv('data/raw/Countries.CSV')\n",
    "countries.sample(5)"
   ]
  },
  {
   "cell_type": "code",
   "execution_count": 24,
   "metadata": {},
   "outputs": [],
   "source": [
    "usecols = ['status_id', 'user_id', 'created_at', 'screen_name', \n",
    "       'reply_to_status_id', 'reply_to_user_id', 'reply_to_screen_name',\n",
    "       'is_quote', 'is_retweet', 'favourites_count', 'retweet_count',\n",
    "       'country_code', 'followers_count',\n",
    "       'friends_count', 'account_lang', 'account_created_at', 'verified',\n",
    "       'lang', 'hashtag', 'mention']\n",
    "dtypes = {'status_id': int, 'user_id': int, 'screen_name': str, 'reply_to_status_id': 'Int64', 'reply_to_user_id': 'Int64', \n",
    "          'reply_to_screen_name': str, 'is_quote': bool, 'is_retweet': bool, 'favourites_count': int, 'retweet_count': int, 'mention': str,\n",
    "          'country_code': str, 'followers_count': int, 'friends_count': int, 'account_lang': str, 'verified': bool, 'lang': str, 'hashtag': str,}\n",
    "df = []\n",
    "# use only one dataframe for now, remove later!\n",
    "for file in sorted([i for i in os.listdir('data/preprocessed') if i.endswith('.csv')]):\n",
    "    d = pd.read_csv(os.path.join('data/preprocessed', file), usecols=usecols, parse_dates=['created_at', 'account_created_at'], dtype=dtypes)\n",
    "    df.append(d)"
   ]
  },
  {
   "cell_type": "code",
   "execution_count": 25,
   "metadata": {},
   "outputs": [],
   "source": [
    "df = pd.concat(df, axis=0)"
   ]
  },
  {
   "cell_type": "code",
   "execution_count": 26,
   "metadata": {},
   "outputs": [
    {
     "name": "stdout",
     "output_type": "stream",
     "text": [
      "The dataset contains 11522141 tweets from 3160593 authors and 222 countries\n",
      "There 0 are retweets, 1365907 quotes and 1392750 are replies\n"
     ]
    }
   ],
   "source": [
    "print('The dataset contains {} tweets from {} authors and {} countries'.format(len(df), df.user_id.nunique(), df.country_code.nunique()))\n",
    "print('There {} are retweets, {} quotes and {} are replies'.format(df.is_retweet.dropna().sum(), df.is_quote.dropna().sum(), len(df.reply_to_status_id.dropna())))"
   ]
  },
  {
   "cell_type": "code",
   "execution_count": 27,
   "metadata": {},
   "outputs": [],
   "source": [
    "df['is_reply'] = ~df.reply_to_status_id.isna()"
   ]
  },
  {
   "cell_type": "code",
   "execution_count": 28,
   "metadata": {},
   "outputs": [
    {
     "data": {
      "image/png": "[encoded data removed]",
      "text/plain": [
       "<Figure size 432x288 with 1 Axes>"
      ]
     },
     "metadata": {
      "needs_background": "light"
     },
     "output_type": "display_data"
    }
   ],
   "source": [
    "df.lang.value_counts().plot.bar()\n",
    "_ = plt.title('Tweets per language')"
   ]
  },
  {
   "cell_type": "code",
   "execution_count": 29,
   "metadata": {},
   "outputs": [
    {
     "data": {
      "image/png": "[encoded data removed]",
      "text/plain": [
       "<Figure size 432x288 with 1 Axes>"
      ]
     },
     "metadata": {
      "needs_background": "light"
     },
     "output_type": "display_data"
    }
   ],
   "source": [
    "df[~df.lang.isin({'en', 'es'})].lang.value_counts().plot.bar()\n",
    "_ = plt.title('Long tail')"
   ]
  },
  {
   "cell_type": "code",
   "execution_count": 30,
   "metadata": {},
   "outputs": [],
   "source": [
    "# check out the users\n",
    "users = df.groupby(['user_id', 'screen_name', 'account_created_at', 'verified'], as_index=False)\n",
    "users= users[['status_id', 'is_reply', 'is_quote', 'followers_count', 'friends_count']].agg({'is_reply': 'sum', 'is_quote': 'sum',\n",
    "                                                                                                      'followers_count': 'mean',\n",
    "                                                                                                      'friends_count': 'mean', 'status_id': 'count'})"
   ]
  },
  {
   "cell_type": "code",
   "execution_count": 31,
   "metadata": {},
   "outputs": [],
   "source": [
    "users = users[['user_id', 'screen_name', 'account_created_at', 'verified', 'status_id', 'is_reply', 'is_quote', 'followers_count', 'friends_count']]\n",
    "users.followers_count = users.followers_count.astype(int)\n",
    "users.friends_count = users.friends_count.astype(int)\n",
    "users.columns = ['user_id', 'screen_name', 'account_created_at', 'verified', 'total_tweets', 'total_replies', 'total_quotes', 'mean_followers', 'mean_friends']"
   ]
  },
  {
   "cell_type": "code",
   "execution_count": 32,
   "metadata": {},
   "outputs": [
    {
     "name": "stdout",
     "output_type": "stream",
     "text": [
      "There are 3170850 unique users\n",
      "The most followed users are\n"
     ]
    },
    {
     "data": {
      "text/html": [
       "<div>\n",
       "<style scoped>\n",
       "    .dataframe tbody tr th:only-of-type {\n",
       "        vertical-align: middle;\n",
       "    }\n",
       "\n",
       "    .dataframe tbody tr th {\n",
       "        vertical-align: top;\n",
       "    }\n",
       "\n",
       "    .dataframe thead th {\n",
       "        text-align: right;\n",
       "    }\n",
       "</style>\n",
       "<table border=\"1\" class=\"dataframe\">\n",
       "  <thead>\n",
       "    <tr style=\"text-align: right;\">\n",
       "      <th></th>\n",
       "      <th>user_id</th>\n",
       "      <th>screen_name</th>\n",
       "      <th>account_created_at</th>\n",
       "      <th>verified</th>\n",
       "      <th>total_tweets</th>\n",
       "      <th>total_replies</th>\n",
       "      <th>total_quotes</th>\n",
       "      <th>mean_followers</th>\n",
       "      <th>mean_friends</th>\n",
       "    </tr>\n",
       "  </thead>\n",
       "  <tbody>\n",
       "    <tr>\n",
       "      <th>166253</th>\n",
       "      <td>25073877</td>\n",
       "      <td>realDonaldTrump</td>\n",
       "      <td>2009-03-18 13:46:38+00:00</td>\n",
       "      <td>True</td>\n",
       "      <td>1</td>\n",
       "      <td>0.0</td>\n",
       "      <td>0.0</td>\n",
       "      <td>74483122</td>\n",
       "      <td>47</td>\n",
       "    </tr>\n",
       "    <tr>\n",
       "      <th>168848</th>\n",
       "      <td>25365536</td>\n",
       "      <td>KimKardashian</td>\n",
       "      <td>2009-03-19 19:21:56+00:00</td>\n",
       "      <td>True</td>\n",
       "      <td>4</td>\n",
       "      <td>0.0</td>\n",
       "      <td>0.0</td>\n",
       "      <td>64408829</td>\n",
       "      <td>130</td>\n",
       "    </tr>\n",
       "    <tr>\n",
       "      <th>319809</th>\n",
       "      <td>50393960</td>\n",
       "      <td>BillGates</td>\n",
       "      <td>2009-06-24 18:44:10+00:00</td>\n",
       "      <td>True</td>\n",
       "      <td>3</td>\n",
       "      <td>0.0</td>\n",
       "      <td>0.0</td>\n",
       "      <td>49250694</td>\n",
       "      <td>217</td>\n",
       "    </tr>\n",
       "    <tr>\n",
       "      <th>1245</th>\n",
       "      <td>759251</td>\n",
       "      <td>CNN</td>\n",
       "      <td>2007-02-09 00:35:02+00:00</td>\n",
       "      <td>True</td>\n",
       "      <td>13</td>\n",
       "      <td>0.0</td>\n",
       "      <td>0.0</td>\n",
       "      <td>46154082</td>\n",
       "      <td>1107</td>\n",
       "    </tr>\n",
       "    <tr>\n",
       "      <th>147368</th>\n",
       "      <td>23083404</td>\n",
       "      <td>KingJames</td>\n",
       "      <td>2009-03-06 16:25:53+00:00</td>\n",
       "      <td>True</td>\n",
       "      <td>1</td>\n",
       "      <td>0.0</td>\n",
       "      <td>0.0</td>\n",
       "      <td>45576188</td>\n",
       "      <td>187</td>\n",
       "    </tr>\n",
       "  </tbody>\n",
       "</table>\n",
       "</div>"
      ],
      "text/plain": [
       "         user_id      screen_name        account_created_at  verified  \\\n",
       "166253  25073877  realDonaldTrump 2009-03-18 13:46:38+00:00      True   \n",
       "168848  25365536    KimKardashian 2009-03-19 19:21:56+00:00      True   \n",
       "319809  50393960        BillGates 2009-06-24 18:44:10+00:00      True   \n",
       "1245      759251              CNN 2007-02-09 00:35:02+00:00      True   \n",
       "147368  23083404        KingJames 2009-03-06 16:25:53+00:00      True   \n",
       "\n",
       "        total_tweets  total_replies  total_quotes  mean_followers  \\\n",
       "166253             1            0.0           0.0        74483122   \n",
       "168848             4            0.0           0.0        64408829   \n",
       "319809             3            0.0           0.0        49250694   \n",
       "1245              13            0.0           0.0        46154082   \n",
       "147368             1            0.0           0.0        45576188   \n",
       "\n",
       "        mean_friends  \n",
       "166253            47  \n",
       "168848           130  \n",
       "319809           217  \n",
       "1245            1107  \n",
       "147368           187  "
      ]
     },
     "execution_count": 32,
     "metadata": {},
     "output_type": "execute_result"
    }
   ],
   "source": [
    "print('There are {} unique users'.format(len(users)))\n",
    "print('The most followed users are')\n",
    "users.sort_values(by='mean_followers', ascending=False).head()"
   ]
  },
  {
   "cell_type": "code",
   "execution_count": 33,
   "metadata": {},
   "outputs": [
    {
     "name": "stdout",
     "output_type": "stream",
     "text": [
      "The most tweets\n"
     ]
    },
    {
     "data": {
      "text/html": [
       "<div>\n",
       "<style scoped>\n",
       "    .dataframe tbody tr th:only-of-type {\n",
       "        vertical-align: middle;\n",
       "    }\n",
       "\n",
       "    .dataframe tbody tr th {\n",
       "        vertical-align: top;\n",
       "    }\n",
       "\n",
       "    .dataframe thead th {\n",
       "        text-align: right;\n",
       "    }\n",
       "</style>\n",
       "<table border=\"1\" class=\"dataframe\">\n",
       "  <thead>\n",
       "    <tr style=\"text-align: right;\">\n",
       "      <th></th>\n",
       "      <th>user_id</th>\n",
       "      <th>screen_name</th>\n",
       "      <th>account_created_at</th>\n",
       "      <th>verified</th>\n",
       "      <th>total_tweets</th>\n",
       "      <th>total_replies</th>\n",
       "      <th>total_quotes</th>\n",
       "      <th>mean_followers</th>\n",
       "      <th>mean_friends</th>\n",
       "    </tr>\n",
       "  </thead>\n",
       "  <tbody>\n",
       "    <tr>\n",
       "      <th>2382754</th>\n",
       "      <td>938533034659168256</td>\n",
       "      <td>openletterbot</td>\n",
       "      <td>2017-12-06 22:18:07+00:00</td>\n",
       "      <td>True</td>\n",
       "      <td>38345</td>\n",
       "      <td>0.0</td>\n",
       "      <td>0.0</td>\n",
       "      <td>16685</td>\n",
       "      <td>3</td>\n",
       "    </tr>\n",
       "    <tr>\n",
       "      <th>2042018</th>\n",
       "      <td>4913320595</td>\n",
       "      <td>Only_rock_radio</td>\n",
       "      <td>2016-02-15 12:09:37+00:00</td>\n",
       "      <td>False</td>\n",
       "      <td>11457</td>\n",
       "      <td>0.0</td>\n",
       "      <td>0.0</td>\n",
       "      <td>29171</td>\n",
       "      <td>19059</td>\n",
       "    </tr>\n",
       "    <tr>\n",
       "      <th>607859</th>\n",
       "      <td>139283160</td>\n",
       "      <td>kr3at</td>\n",
       "      <td>2010-05-02 03:52:20+00:00</td>\n",
       "      <td>False</td>\n",
       "      <td>9662</td>\n",
       "      <td>163.0</td>\n",
       "      <td>209.0</td>\n",
       "      <td>17291</td>\n",
       "      <td>7134</td>\n",
       "    </tr>\n",
       "    <tr>\n",
       "      <th>918851</th>\n",
       "      <td>289118612</td>\n",
       "      <td>TomthunkitsMind</td>\n",
       "      <td>2011-04-28 01:56:15+00:00</td>\n",
       "      <td>False</td>\n",
       "      <td>8819</td>\n",
       "      <td>1.0</td>\n",
       "      <td>175.0</td>\n",
       "      <td>68214</td>\n",
       "      <td>63121</td>\n",
       "    </tr>\n",
       "    <tr>\n",
       "      <th>799579</th>\n",
       "      <td>231726084</td>\n",
       "      <td>zazoomblog</td>\n",
       "      <td>2010-12-29 08:42:05+00:00</td>\n",
       "      <td>False</td>\n",
       "      <td>7724</td>\n",
       "      <td>0.0</td>\n",
       "      <td>0.0</td>\n",
       "      <td>5391</td>\n",
       "      <td>1557</td>\n",
       "    </tr>\n",
       "  </tbody>\n",
       "</table>\n",
       "</div>"
      ],
      "text/plain": [
       "                    user_id      screen_name        account_created_at  \\\n",
       "2382754  938533034659168256    openletterbot 2017-12-06 22:18:07+00:00   \n",
       "2042018          4913320595  Only_rock_radio 2016-02-15 12:09:37+00:00   \n",
       "607859            139283160            kr3at 2010-05-02 03:52:20+00:00   \n",
       "918851            289118612  TomthunkitsMind 2011-04-28 01:56:15+00:00   \n",
       "799579            231726084       zazoomblog 2010-12-29 08:42:05+00:00   \n",
       "\n",
       "         verified  total_tweets  total_replies  total_quotes  mean_followers  \\\n",
       "2382754      True         38345            0.0           0.0           16685   \n",
       "2042018     False         11457            0.0           0.0           29171   \n",
       "607859      False          9662          163.0         209.0           17291   \n",
       "918851      False          8819            1.0         175.0           68214   \n",
       "799579      False          7724            0.0           0.0            5391   \n",
       "\n",
       "         mean_friends  \n",
       "2382754             3  \n",
       "2042018         19059  \n",
       "607859           7134  \n",
       "918851          63121  \n",
       "799579           1557  "
      ]
     },
     "execution_count": 33,
     "metadata": {},
     "output_type": "execute_result"
    }
   ],
   "source": [
    "print('The most tweets')\n",
    "users.sort_values(by='total_tweets', ascending=False).head()"
   ]
  },
  {
   "cell_type": "code",
   "execution_count": 34,
   "metadata": {},
   "outputs": [
    {
     "data": {
      "text/plain": [
       "0                 @SCMPgraphics\n",
       "1                          @CNN\n",
       "2                           NaN\n",
       "3                           NaN\n",
       "4    @Yunfei_Zh,, @CGTNOfficial\n",
       "Name: mention, dtype: object"
      ]
     },
     "execution_count": 34,
     "metadata": {},
     "output_type": "execute_result"
    }
   ],
   "source": [
    "df.mention.head()"
   ]
  },
  {
   "cell_type": "code",
   "execution_count": 35,
   "metadata": {},
   "outputs": [
    {
     "data": {
      "text/plain": [
       "120702    #herdimmunity, #coronavirus, #coronavirusuk, #...\n",
       "142029                                         #CORONAVIRUS\n",
       "333874                                   #Angola, #Covid_19\n",
       "430387                                    #Coronavirus, #60\n",
       "409024                                         #coronavirus\n",
       "Name: hashtag, dtype: object"
      ]
     },
     "execution_count": 35,
     "metadata": {},
     "output_type": "execute_result"
    }
   ],
   "source": [
    "df.hashtag.sample(5)"
   ]
  },
  {
   "cell_type": "code",
   "execution_count": 36,
   "metadata": {},
   "outputs": [
    {
     "data": {
      "text/plain": [
       "11522141"
      ]
     },
     "execution_count": 36,
     "metadata": {},
     "output_type": "execute_result"
    }
   ],
   "source": [
    "len(df)"
   ]
  },
  {
   "cell_type": "code",
   "execution_count": 37,
   "metadata": {},
   "outputs": [
    {
     "data": {
      "text/plain": [
       "11522141"
      ]
     },
     "execution_count": 37,
     "metadata": {},
     "output_type": "execute_result"
    }
   ],
   "source": [
    "len(df.lang.dropna())"
   ]
  },
  {
   "cell_type": "code",
   "execution_count": null,
   "metadata": {},
   "outputs": [],
   "source": []
  }
 ],
 "metadata": {
  "kernelspec": {
   "display_name": "corona-twitter",
   "language": "python",
   "name": "corona-twitter"
  },
  "language_info": {
   "codemirror_mode": {
    "name": "ipython",
    "version": 3
   },
   "file_extension": ".py",
   "mimetype": "text/x-python",
   "name": "python",
   "nbconvert_exporter": "python",
   "pygments_lexer": "ipython3",
   "version": "3.5.2"
  }
 },
 "nbformat": 4,
 "nbformat_minor": 2
}
